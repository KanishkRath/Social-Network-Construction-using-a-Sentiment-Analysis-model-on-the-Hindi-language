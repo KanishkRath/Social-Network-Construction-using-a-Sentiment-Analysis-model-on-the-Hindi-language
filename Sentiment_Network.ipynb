{
  "cells": [
    {
      "cell_type": "code",
      "execution_count": null,
      "metadata": {
        "colab": {
          "base_uri": "https://localhost:8080/"
        },
        "id": "zJ6rOaQMm1JD",
        "outputId": "2ca9fd94-c3d9-4abb-ceea-396427389c8e"
      },
      "outputs": [
        {
          "output_type": "stream",
          "name": "stdout",
          "text": [
            "Looking in indexes: https://pypi.org/simple, https://us-python.pkg.dev/colab-wheels/public/simple/\n",
            "Collecting pandas_ods_reader\n",
            "  Downloading pandas_ods_reader-0.1.4-py3-none-any.whl (6.7 kB)\n",
            "Requirement already satisfied: pandas<2.0.0,>=1.0.0 in /usr/local/lib/python3.9/dist-packages (from pandas_ods_reader) (1.5.3)\n",
            "Requirement already satisfied: lxml<5.0.0,>=4.6.3 in /usr/local/lib/python3.9/dist-packages (from pandas_ods_reader) (4.9.2)\n",
            "Collecting ezodf<0.4.0,>=0.3.2\n",
            "  Downloading ezodf-0.3.2.tar.gz (125 kB)\n",
            "\u001b[2K     \u001b[90m━━━━━━━━━━━━━━━━━━━━━━━━━━━━━━━━━━━━━━\u001b[0m \u001b[32m125.9/125.9 kB\u001b[0m \u001b[31m12.9 MB/s\u001b[0m eta \u001b[36m0:00:00\u001b[0m\n",
            "\u001b[?25h  Preparing metadata (setup.py) ... \u001b[?25l\u001b[?25hdone\n",
            "Requirement already satisfied: pytz>=2020.1 in /usr/local/lib/python3.9/dist-packages (from pandas<2.0.0,>=1.0.0->pandas_ods_reader) (2022.7.1)\n",
            "Requirement already satisfied: numpy>=1.20.3 in /usr/local/lib/python3.9/dist-packages (from pandas<2.0.0,>=1.0.0->pandas_ods_reader) (1.22.4)\n",
            "Requirement already satisfied: python-dateutil>=2.8.1 in /usr/local/lib/python3.9/dist-packages (from pandas<2.0.0,>=1.0.0->pandas_ods_reader) (2.8.2)\n",
            "Requirement already satisfied: six>=1.5 in /usr/local/lib/python3.9/dist-packages (from python-dateutil>=2.8.1->pandas<2.0.0,>=1.0.0->pandas_ods_reader) (1.16.0)\n",
            "Building wheels for collected packages: ezodf\n",
            "  Building wheel for ezodf (setup.py) ... \u001b[?25l\u001b[?25hdone\n",
            "  Created wheel for ezodf: filename=ezodf-0.3.2-py2.py3-none-any.whl size=49002 sha256=e072aae15beb3df799868e87d6d21db07d9c830b75db96b8a5ff9769e776512c\n",
            "  Stored in directory: /root/.cache/pip/wheels/d0/0e/c2/1af349f0c9e110ed08133a3d579f402f3ec1c031eac80bc084\n",
            "Successfully built ezodf\n",
            "Installing collected packages: ezodf, pandas_ods_reader\n",
            "Successfully installed ezodf-0.3.2 pandas_ods_reader-0.1.4\n"
          ]
        }
      ],
      "source": [
        "pip install pandas_ods_reader"
      ]
    },
    {
      "cell_type": "code",
      "execution_count": null,
      "metadata": {
        "id": "gxbgrTR5-t7r"
      },
      "outputs": [],
      "source": [
        "import pandas as pd\n",
        "import numpy as np\n",
        "import matplotlib.pyplot as plt\n",
        "from sklearn.preprocessing import OneHotEncoder\n",
        "from sklearn.model_selection import train_test_split\n",
        "from tensorflow.python.keras import Sequential\n",
        "from tensorflow.python.keras.layers import Dense, Embedding, LSTM, GRU\n",
        "from keras.preprocessing.text import Tokenizer\n",
        "from tensorflow.keras.preprocessing.sequence import pad_sequences\n",
        "import tensorflow\n",
        "from keras.utils.np_utils import to_categorical\n",
        "from sklearn.preprocessing import LabelEncoder\n",
        "from keras import optimizers\n",
        "from tensorflow.python.keras import layers\n",
        "import tensorflow as tf\n",
        "from pandas_ods_reader import read_ods"
      ]
    },
    {
      "cell_type": "code",
      "execution_count": null,
      "metadata": {
        "id": "PzMXc74SrhAw"
      },
      "outputs": [],
      "source": [
        "from numpy.random import seed\n",
        "seed(1)\n",
        "from numpy.random import seed\n",
        "seed(1)\n",
        "tensorflow.random.set_seed(2)"
      ]
    },
    {
      "cell_type": "code",
      "execution_count": null,
      "metadata": {
        "id": "_ZISB5UF_x4Y"
      },
      "outputs": [],
      "source": [
        "import io\n",
        "#df = pd.read_csv(io.BytesIO(uploaded['emotions.csv']))\n",
        "df = read_ods(\"hi_3500.ods\" , 1 )\n"
      ]
    },
    {
      "cell_type": "code",
      "execution_count": null,
      "metadata": {
        "colab": {
          "base_uri": "https://localhost:8080/",
          "height": 206
        },
        "id": "TuyzqoczAc4J",
        "outputId": "dce210b4-d0ac-4c1c-b72b-6d8247dafe4e"
      },
      "outputs": [
        {
          "output_type": "execute_result",
          "data": {
            "text/plain": [
              "                                           sentiment     Label\n",
              "0  लोग वतन तक खा जाते हैं इसका इसे यकीन नहींमान ज...  negative\n",
              "1  गुमनाम है वतन पर मिटने वाले लोग आतन्कवादियों स...  negative\n",
              "2  ज़ंजीर बदली जा रही थी मैं समझा था रिहाई हो गयी है  negative\n",
              "3  यूपी में बड़े स्तर पर दंगे करवा सकती है बीजेपी...  negative\n",
              "4  अंग्रेजी नहीं आती है इसलिए हिन्दी ट्विट ज्यादा...  negative"
            ],
            "text/html": [
              "\n",
              "  <div id=\"df-858dd449-8b30-4b56-a396-33df0984df49\">\n",
              "    <div class=\"colab-df-container\">\n",
              "      <div>\n",
              "<style scoped>\n",
              "    .dataframe tbody tr th:only-of-type {\n",
              "        vertical-align: middle;\n",
              "    }\n",
              "\n",
              "    .dataframe tbody tr th {\n",
              "        vertical-align: top;\n",
              "    }\n",
              "\n",
              "    .dataframe thead th {\n",
              "        text-align: right;\n",
              "    }\n",
              "</style>\n",
              "<table border=\"1\" class=\"dataframe\">\n",
              "  <thead>\n",
              "    <tr style=\"text-align: right;\">\n",
              "      <th></th>\n",
              "      <th>sentiment</th>\n",
              "      <th>Label</th>\n",
              "    </tr>\n",
              "  </thead>\n",
              "  <tbody>\n",
              "    <tr>\n",
              "      <th>0</th>\n",
              "      <td>लोग वतन तक खा जाते हैं इसका इसे यकीन नहींमान ज...</td>\n",
              "      <td>negative</td>\n",
              "    </tr>\n",
              "    <tr>\n",
              "      <th>1</th>\n",
              "      <td>गुमनाम है वतन पर मिटने वाले लोग आतन्कवादियों स...</td>\n",
              "      <td>negative</td>\n",
              "    </tr>\n",
              "    <tr>\n",
              "      <th>2</th>\n",
              "      <td>ज़ंजीर बदली जा रही थी मैं समझा था रिहाई हो गयी है</td>\n",
              "      <td>negative</td>\n",
              "    </tr>\n",
              "    <tr>\n",
              "      <th>3</th>\n",
              "      <td>यूपी में बड़े स्तर पर दंगे करवा सकती है बीजेपी...</td>\n",
              "      <td>negative</td>\n",
              "    </tr>\n",
              "    <tr>\n",
              "      <th>4</th>\n",
              "      <td>अंग्रेजी नहीं आती है इसलिए हिन्दी ट्विट ज्यादा...</td>\n",
              "      <td>negative</td>\n",
              "    </tr>\n",
              "  </tbody>\n",
              "</table>\n",
              "</div>\n",
              "      <button class=\"colab-df-convert\" onclick=\"convertToInteractive('df-858dd449-8b30-4b56-a396-33df0984df49')\"\n",
              "              title=\"Convert this dataframe to an interactive table.\"\n",
              "              style=\"display:none;\">\n",
              "        \n",
              "  <svg xmlns=\"http://www.w3.org/2000/svg\" height=\"24px\"viewBox=\"0 0 24 24\"\n",
              "       width=\"24px\">\n",
              "    <path d=\"M0 0h24v24H0V0z\" fill=\"none\"/>\n",
              "    <path d=\"M18.56 5.44l.94 2.06.94-2.06 2.06-.94-2.06-.94-.94-2.06-.94 2.06-2.06.94zm-11 1L8.5 8.5l.94-2.06 2.06-.94-2.06-.94L8.5 2.5l-.94 2.06-2.06.94zm10 10l.94 2.06.94-2.06 2.06-.94-2.06-.94-.94-2.06-.94 2.06-2.06.94z\"/><path d=\"M17.41 7.96l-1.37-1.37c-.4-.4-.92-.59-1.43-.59-.52 0-1.04.2-1.43.59L10.3 9.45l-7.72 7.72c-.78.78-.78 2.05 0 2.83L4 21.41c.39.39.9.59 1.41.59.51 0 1.02-.2 1.41-.59l7.78-7.78 2.81-2.81c.8-.78.8-2.07 0-2.86zM5.41 20L4 18.59l7.72-7.72 1.47 1.35L5.41 20z\"/>\n",
              "  </svg>\n",
              "      </button>\n",
              "      \n",
              "  <style>\n",
              "    .colab-df-container {\n",
              "      display:flex;\n",
              "      flex-wrap:wrap;\n",
              "      gap: 12px;\n",
              "    }\n",
              "\n",
              "    .colab-df-convert {\n",
              "      background-color: #E8F0FE;\n",
              "      border: none;\n",
              "      border-radius: 50%;\n",
              "      cursor: pointer;\n",
              "      display: none;\n",
              "      fill: #1967D2;\n",
              "      height: 32px;\n",
              "      padding: 0 0 0 0;\n",
              "      width: 32px;\n",
              "    }\n",
              "\n",
              "    .colab-df-convert:hover {\n",
              "      background-color: #E2EBFA;\n",
              "      box-shadow: 0px 1px 2px rgba(60, 64, 67, 0.3), 0px 1px 3px 1px rgba(60, 64, 67, 0.15);\n",
              "      fill: #174EA6;\n",
              "    }\n",
              "\n",
              "    [theme=dark] .colab-df-convert {\n",
              "      background-color: #3B4455;\n",
              "      fill: #D2E3FC;\n",
              "    }\n",
              "\n",
              "    [theme=dark] .colab-df-convert:hover {\n",
              "      background-color: #434B5C;\n",
              "      box-shadow: 0px 1px 3px 1px rgba(0, 0, 0, 0.15);\n",
              "      filter: drop-shadow(0px 1px 2px rgba(0, 0, 0, 0.3));\n",
              "      fill: #FFFFFF;\n",
              "    }\n",
              "  </style>\n",
              "\n",
              "      <script>\n",
              "        const buttonEl =\n",
              "          document.querySelector('#df-858dd449-8b30-4b56-a396-33df0984df49 button.colab-df-convert');\n",
              "        buttonEl.style.display =\n",
              "          google.colab.kernel.accessAllowed ? 'block' : 'none';\n",
              "\n",
              "        async function convertToInteractive(key) {\n",
              "          const element = document.querySelector('#df-858dd449-8b30-4b56-a396-33df0984df49');\n",
              "          const dataTable =\n",
              "            await google.colab.kernel.invokeFunction('convertToInteractive',\n",
              "                                                     [key], {});\n",
              "          if (!dataTable) return;\n",
              "\n",
              "          const docLinkHtml = 'Like what you see? Visit the ' +\n",
              "            '<a target=\"_blank\" href=https://colab.research.google.com/notebooks/data_table.ipynb>data table notebook</a>'\n",
              "            + ' to learn more about interactive tables.';\n",
              "          element.innerHTML = '';\n",
              "          dataTable['output_type'] = 'display_data';\n",
              "          await google.colab.output.renderOutput(dataTable, element);\n",
              "          const docLink = document.createElement('div');\n",
              "          docLink.innerHTML = docLinkHtml;\n",
              "          element.appendChild(docLink);\n",
              "        }\n",
              "      </script>\n",
              "    </div>\n",
              "  </div>\n",
              "  "
            ]
          },
          "metadata": {},
          "execution_count": 5
        }
      ],
      "source": [
        "df.head()"
      ]
    },
    {
      "cell_type": "code",
      "execution_count": null,
      "metadata": {
        "colab": {
          "base_uri": "https://localhost:8080/"
        },
        "id": "i_mSkGSsA12b",
        "outputId": "a60637df-656d-438a-e7a5-ebd999aa68ea"
      },
      "outputs": [
        {
          "output_type": "execute_result",
          "data": {
            "text/plain": [
              "(9077, 2)"
            ]
          },
          "metadata": {},
          "execution_count": 6
        }
      ],
      "source": [
        "df.shape"
      ]
    },
    {
      "cell_type": "code",
      "execution_count": null,
      "metadata": {
        "colab": {
          "base_uri": "https://localhost:8080/"
        },
        "id": "v_cMmrq4dhGV",
        "outputId": "e868f0f5-e969-4b78-eb6f-b33c24135a3f"
      },
      "outputs": [
        {
          "data": {
            "text/plain": [
              "ससुर ने किया बलात्कार ISLAMIC LAW-NOW WIFE IS MOTHER इस्लामिक क़ानून-अब बीवी को माँ मानो                                                        8\n",
              "जम्मू-कश्मीर बाढ़ : PM ने लिया हालात का जायजा 1000 करोड़ रुपए की दी आर्थिक सहायता - Zee News हिन्दी                                             7\n",
              "जलवा खतम हो रहा है ये सिर्फ मरे हुवों की मदद करते हैं मर कर एक लाख पाओ . ख़ुदकुशी आत्महत्या को भी कानूनी                                        7\n",
              "मैं अपने पैरंट्स पर बोझ नहीं डालना चाहता था।                                                                                                    5\n",
              "किसी अनहोनी की आशंका से करीब आधे घंटे तक क्षेत्र के लोग भयभीत होते रहे।                                                                         4\n",
              "                                                                                                                                               ..\n",
              "RT @aajtak: बुराड़ी कांड में बड़ा खुलासा\\n@AajGothi\\nhttps://t.co/Q8OdMpcng0                                                                    1\n",
              "RT @aajtak: 11 मौतें और 11 पाइपों का रहस्य..\\n@AajGothi\\nhttps://t.co/4hbmzDUISH                                                                1\n",
              "RT @waseemabbasi04: क्या दिल्ली में एक परिवार को अंधविश्वास ने उजाड़ दिया ? देखिए सिर्फ @DilliAajtaktv पर\\n@ShamsTahirKhan @filmashish @Kum…    1\n",
              "RT @aajtak: #BurariMurderMystery: तीसरे भाई ने खोला 11 पाइपों का राज (@AajGothi)\\n@JurmAajTak\\nhttps://t.co/iLDRHC1HQt                          1\n",
              "कश्मीर में हमारे जवानों से ऐसा सलूक? वीडियो देखेंगे तो खून खौल जाएगा...\\n#MOJO\\n\\nhttps://t.co/seqEvYjODe                                       1\n",
              "Name: sentiment, Length: 7832, dtype: int64"
            ]
          },
          "execution_count": 8,
          "metadata": {},
          "output_type": "execute_result"
        }
      ],
      "source": [
        "df[\"sentiment\"].value_counts()"
      ]
    },
    {
      "cell_type": "code",
      "execution_count": null,
      "metadata": {
        "id": "hpqLRMiiJJWm"
      },
      "outputs": [],
      "source": [
        "y = df[\"Label\"]\n",
        "X = df.drop([\"Label\"], axis = 1)"
      ]
    },
    {
      "cell_type": "code",
      "execution_count": null,
      "metadata": {
        "colab": {
          "base_uri": "https://localhost:8080/",
          "height": 206
        },
        "id": "Kq9LdZSMBWKV",
        "outputId": "9a1a4d9d-023a-44f0-ead8-a601ad7e5a24"
      },
      "outputs": [
        {
          "output_type": "execute_result",
          "data": {
            "text/plain": [
              "                                              sentiment\n",
              "2579  दिल्ली मौजपुर इलाके में एक 2 साल की बच्ची की न...\n",
              "8763  इस अनोखे पुल का उद्घाटन करने वाले हैं पीएम मोद...\n",
              "6698  टीम इंडिया के कप्तान महेन्द्र सिंह धोनी के वोट...\n",
              "5398       विक्की ने जो कुछ किया इसकी उसे बहुत खुशी थी।\n",
              "8649  RT @aajtak: #HallaBol\\nक्या पाटीदार आंदोलन के ..."
            ],
            "text/html": [
              "\n",
              "  <div id=\"df-be88ed4c-14a6-4fb6-9622-181695c99b53\">\n",
              "    <div class=\"colab-df-container\">\n",
              "      <div>\n",
              "<style scoped>\n",
              "    .dataframe tbody tr th:only-of-type {\n",
              "        vertical-align: middle;\n",
              "    }\n",
              "\n",
              "    .dataframe tbody tr th {\n",
              "        vertical-align: top;\n",
              "    }\n",
              "\n",
              "    .dataframe thead th {\n",
              "        text-align: right;\n",
              "    }\n",
              "</style>\n",
              "<table border=\"1\" class=\"dataframe\">\n",
              "  <thead>\n",
              "    <tr style=\"text-align: right;\">\n",
              "      <th></th>\n",
              "      <th>sentiment</th>\n",
              "    </tr>\n",
              "  </thead>\n",
              "  <tbody>\n",
              "    <tr>\n",
              "      <th>2579</th>\n",
              "      <td>दिल्ली मौजपुर इलाके में एक 2 साल की बच्ची की न...</td>\n",
              "    </tr>\n",
              "    <tr>\n",
              "      <th>8763</th>\n",
              "      <td>इस अनोखे पुल का उद्घाटन करने वाले हैं पीएम मोद...</td>\n",
              "    </tr>\n",
              "    <tr>\n",
              "      <th>6698</th>\n",
              "      <td>टीम इंडिया के कप्तान महेन्द्र सिंह धोनी के वोट...</td>\n",
              "    </tr>\n",
              "    <tr>\n",
              "      <th>5398</th>\n",
              "      <td>विक्की ने जो कुछ किया इसकी उसे बहुत खुशी थी।</td>\n",
              "    </tr>\n",
              "    <tr>\n",
              "      <th>8649</th>\n",
              "      <td>RT @aajtak: #HallaBol\\nक्या पाटीदार आंदोलन के ...</td>\n",
              "    </tr>\n",
              "  </tbody>\n",
              "</table>\n",
              "</div>\n",
              "      <button class=\"colab-df-convert\" onclick=\"convertToInteractive('df-be88ed4c-14a6-4fb6-9622-181695c99b53')\"\n",
              "              title=\"Convert this dataframe to an interactive table.\"\n",
              "              style=\"display:none;\">\n",
              "        \n",
              "  <svg xmlns=\"http://www.w3.org/2000/svg\" height=\"24px\"viewBox=\"0 0 24 24\"\n",
              "       width=\"24px\">\n",
              "    <path d=\"M0 0h24v24H0V0z\" fill=\"none\"/>\n",
              "    <path d=\"M18.56 5.44l.94 2.06.94-2.06 2.06-.94-2.06-.94-.94-2.06-.94 2.06-2.06.94zm-11 1L8.5 8.5l.94-2.06 2.06-.94-2.06-.94L8.5 2.5l-.94 2.06-2.06.94zm10 10l.94 2.06.94-2.06 2.06-.94-2.06-.94-.94-2.06-.94 2.06-2.06.94z\"/><path d=\"M17.41 7.96l-1.37-1.37c-.4-.4-.92-.59-1.43-.59-.52 0-1.04.2-1.43.59L10.3 9.45l-7.72 7.72c-.78.78-.78 2.05 0 2.83L4 21.41c.39.39.9.59 1.41.59.51 0 1.02-.2 1.41-.59l7.78-7.78 2.81-2.81c.8-.78.8-2.07 0-2.86zM5.41 20L4 18.59l7.72-7.72 1.47 1.35L5.41 20z\"/>\n",
              "  </svg>\n",
              "      </button>\n",
              "      \n",
              "  <style>\n",
              "    .colab-df-container {\n",
              "      display:flex;\n",
              "      flex-wrap:wrap;\n",
              "      gap: 12px;\n",
              "    }\n",
              "\n",
              "    .colab-df-convert {\n",
              "      background-color: #E8F0FE;\n",
              "      border: none;\n",
              "      border-radius: 50%;\n",
              "      cursor: pointer;\n",
              "      display: none;\n",
              "      fill: #1967D2;\n",
              "      height: 32px;\n",
              "      padding: 0 0 0 0;\n",
              "      width: 32px;\n",
              "    }\n",
              "\n",
              "    .colab-df-convert:hover {\n",
              "      background-color: #E2EBFA;\n",
              "      box-shadow: 0px 1px 2px rgba(60, 64, 67, 0.3), 0px 1px 3px 1px rgba(60, 64, 67, 0.15);\n",
              "      fill: #174EA6;\n",
              "    }\n",
              "\n",
              "    [theme=dark] .colab-df-convert {\n",
              "      background-color: #3B4455;\n",
              "      fill: #D2E3FC;\n",
              "    }\n",
              "\n",
              "    [theme=dark] .colab-df-convert:hover {\n",
              "      background-color: #434B5C;\n",
              "      box-shadow: 0px 1px 3px 1px rgba(0, 0, 0, 0.15);\n",
              "      filter: drop-shadow(0px 1px 2px rgba(0, 0, 0, 0.3));\n",
              "      fill: #FFFFFF;\n",
              "    }\n",
              "  </style>\n",
              "\n",
              "      <script>\n",
              "        const buttonEl =\n",
              "          document.querySelector('#df-be88ed4c-14a6-4fb6-9622-181695c99b53 button.colab-df-convert');\n",
              "        buttonEl.style.display =\n",
              "          google.colab.kernel.accessAllowed ? 'block' : 'none';\n",
              "\n",
              "        async function convertToInteractive(key) {\n",
              "          const element = document.querySelector('#df-be88ed4c-14a6-4fb6-9622-181695c99b53');\n",
              "          const dataTable =\n",
              "            await google.colab.kernel.invokeFunction('convertToInteractive',\n",
              "                                                     [key], {});\n",
              "          if (!dataTable) return;\n",
              "\n",
              "          const docLinkHtml = 'Like what you see? Visit the ' +\n",
              "            '<a target=\"_blank\" href=https://colab.research.google.com/notebooks/data_table.ipynb>data table notebook</a>'\n",
              "            + ' to learn more about interactive tables.';\n",
              "          element.innerHTML = '';\n",
              "          dataTable['output_type'] = 'display_data';\n",
              "          await google.colab.output.renderOutput(dataTable, element);\n",
              "          const docLink = document.createElement('div');\n",
              "          docLink.innerHTML = docLinkHtml;\n",
              "          element.appendChild(docLink);\n",
              "        }\n",
              "      </script>\n",
              "    </div>\n",
              "  </div>\n",
              "  "
            ]
          },
          "metadata": {},
          "execution_count": 8
        }
      ],
      "source": [
        "# 70/15/15 train/test/val split\n",
        "X_train, X_test, y_train, y_test = train_test_split(X, y, test_size=0.15, random_state=1)\n",
        "X_train, X_val, y_train, y_val = train_test_split(X_train, y_train, test_size=0.15, random_state=1)\n",
        "\n",
        "X_train.head()"
      ]
    },
    {
      "cell_type": "code",
      "execution_count": null,
      "metadata": {
        "id": "ScF16hE0S8Z9"
      },
      "outputs": [],
      "source": [
        "tk = Tokenizer(filters='!\"#$%&()*+,-./:;<=>?@[\\]^_`{\"}~\\t\\n')\n",
        "\n",
        "\n",
        "tk.fit_on_texts(X['sentiment'])\n",
        "\n",
        "# + 1 for unknown token\n",
        "vocab_size = len(tk.word_index) +1\n",
        "\n",
        "X_train_seq = tk.texts_to_sequences(X_train['sentiment'])\n",
        "X_test_seq = tk.texts_to_sequences(X_test['sentiment'])\n",
        "X_val_seq = tk.texts_to_sequences(X_val['sentiment'])\n",
        "# Initializing max length of sentence to 20 words\n",
        "max_length = 20"
      ]
    },
    {
      "cell_type": "code",
      "execution_count": null,
      "metadata": {
        "id": "UreIQTGecPOI"
      },
      "outputs": [],
      "source": [
        "tk.word_index"
      ]
    },
    {
      "cell_type": "code",
      "execution_count": null,
      "metadata": {
        "colab": {
          "base_uri": "https://localhost:8080/"
        },
        "id": "G0fHuNn8clLk",
        "outputId": "4f164258-18a6-4284-ed00-5d22dd16ff59"
      },
      "outputs": [
        {
          "output_type": "stream",
          "name": "stdout",
          "text": [
            "21575\n"
          ]
        }
      ],
      "source": [
        "print(vocab_size)\n"
      ]
    },
    {
      "cell_type": "code",
      "execution_count": null,
      "metadata": {
        "id": "X_bXPd9Kd0Ph"
      },
      "outputs": [],
      "source": [
        "X_train_seq"
      ]
    },
    {
      "cell_type": "code",
      "execution_count": null,
      "metadata": {
        "id": "iLO5BDDaffdU"
      },
      "outputs": [],
      "source": [
        "#padding the sequences to make all the input sequences of the same length\n",
        "\n",
        "X_train_seq_pad = pad_sequences(X_train_seq, maxlen=max_length, padding='post')\n",
        "X_test_seq_pad = pad_sequences(X_test_seq, maxlen=max_length,padding='post')\n",
        "X_val_seq_pad = pad_sequences(X_val_seq, maxlen=max_length,padding='post')\n"
      ]
    },
    {
      "cell_type": "code",
      "execution_count": null,
      "metadata": {
        "id": "xNDBIRzEpkpr"
      },
      "outputs": [],
      "source": [
        "\n",
        "le = LabelEncoder()\n",
        "y_train_le = le.fit_transform(y_train)\n",
        "y_test_le = le.transform(y_test)\n",
        "y_val_le = le.transform(y_val)\n",
        "y_train_oh = to_categorical(y_train_le)\n",
        "y_test_oh = to_categorical(y_test_le)\n",
        "y_val_oh = to_categorical(y_val_le)"
      ]
    },
    {
      "cell_type": "code",
      "execution_count": null,
      "metadata": {
        "colab": {
          "base_uri": "https://localhost:8080/"
        },
        "id": "_-2incjhqGh9",
        "outputId": "46e07d0d-9376-4056-a0d4-6a3e52cff3bb"
      },
      "outputs": [
        {
          "output_type": "execute_result",
          "data": {
            "text/plain": [
              "array([[   29,  3558,   156, ...,   689,   299,   189],\n",
              "       [   20, 21018,  1757, ...,     0,     0,     0],\n",
              "       [   78,   276,     1, ...,     0,     0,     0],\n",
              "       ...,\n",
              "       [10816, 10817,  3302, ...,     0,     0,     0],\n",
              "       [  607,    18,    21, ...,     5,     6,   741],\n",
              "       [   70,  1728,  1232, ...,   368,     2,  6505]], dtype=int32)"
            ]
          },
          "metadata": {},
          "execution_count": 15
        }
      ],
      "source": [
        "X_train_seq_pad"
      ]
    },
    {
      "cell_type": "code",
      "execution_count": null,
      "metadata": {
        "colab": {
          "base_uri": "https://localhost:8080/"
        },
        "id": "WvKC3k3gramR",
        "outputId": "b64d8c42-7855-40e2-8048-9b3c46a2472e"
      },
      "outputs": [
        {
          "output_type": "stream",
          "name": "stdout",
          "text": [
            "Epoch 1/128\n",
            "26/26 [==============================] - 15s 232ms/step - loss: 1.2969 - accuracy: 0.4982 - val_loss: 1.0642 - val_accuracy: 0.5449\n",
            "Epoch 2/128\n",
            "26/26 [==============================] - 3s 122ms/step - loss: 0.9408 - accuracy: 0.6061 - val_loss: 0.8303 - val_accuracy: 0.6105\n",
            "Epoch 3/128\n",
            "26/26 [==============================] - 3s 120ms/step - loss: 0.7355 - accuracy: 0.6652 - val_loss: 0.7537 - val_accuracy: 0.6623\n",
            "Epoch 4/128\n",
            "26/26 [==============================] - 3s 123ms/step - loss: 0.5983 - accuracy: 0.7624 - val_loss: 0.6417 - val_accuracy: 0.7401\n",
            "Epoch 5/128\n",
            "26/26 [==============================] - 4s 166ms/step - loss: 0.3890 - accuracy: 0.8937 - val_loss: 0.6109 - val_accuracy: 0.7832\n",
            "Epoch 6/128\n",
            "26/26 [==============================] - 3s 120ms/step - loss: 0.2672 - accuracy: 0.9422 - val_loss: 0.6881 - val_accuracy: 0.7582\n",
            "Epoch 7/128\n",
            "26/26 [==============================] - 3s 118ms/step - loss: 0.2428 - accuracy: 0.9489 - val_loss: 0.6493 - val_accuracy: 0.7824\n",
            "Epoch 8/128\n",
            "26/26 [==============================] - 4s 164ms/step - loss: 0.1808 - accuracy: 0.9738 - val_loss: 0.6864 - val_accuracy: 0.7772\n",
            "Epoch 9/128\n",
            "26/26 [==============================] - 3s 120ms/step - loss: 0.1485 - accuracy: 0.9828 - val_loss: 0.7357 - val_accuracy: 0.7712\n",
            "Epoch 10/128\n",
            "26/26 [==============================] - 3s 119ms/step - loss: 0.1318 - accuracy: 0.9854 - val_loss: 0.7319 - val_accuracy: 0.7798\n",
            "Epoch 11/128\n",
            "26/26 [==============================] - 3s 120ms/step - loss: 0.1159 - accuracy: 0.9886 - val_loss: 0.7585 - val_accuracy: 0.7798\n",
            "Epoch 12/128\n",
            "26/26 [==============================] - 4s 171ms/step - loss: 0.1101 - accuracy: 0.9886 - val_loss: 0.7970 - val_accuracy: 0.7668\n",
            "Epoch 13/128\n",
            "26/26 [==============================] - 3s 119ms/step - loss: 0.1070 - accuracy: 0.9890 - val_loss: 0.8204 - val_accuracy: 0.7677\n",
            "Epoch 14/128\n",
            "26/26 [==============================] - 3s 120ms/step - loss: 0.1104 - accuracy: 0.9854 - val_loss: 0.7864 - val_accuracy: 0.7703\n",
            "Epoch 15/128\n",
            "26/26 [==============================] - 4s 156ms/step - loss: 0.1023 - accuracy: 0.9881 - val_loss: 0.8289 - val_accuracy: 0.7746\n",
            "Epoch 16/128\n",
            "26/26 [==============================] - 3s 129ms/step - loss: 0.0988 - accuracy: 0.9896 - val_loss: 0.8170 - val_accuracy: 0.7789\n",
            "Epoch 17/128\n",
            "26/26 [==============================] - 5s 176ms/step - loss: 0.1007 - accuracy: 0.9896 - val_loss: 0.8468 - val_accuracy: 0.7789\n",
            "Epoch 18/128\n",
            "26/26 [==============================] - 3s 124ms/step - loss: 0.1043 - accuracy: 0.9872 - val_loss: 0.8952 - val_accuracy: 0.7703\n",
            "Epoch 19/128\n",
            "26/26 [==============================] - 4s 155ms/step - loss: 0.1057 - accuracy: 0.9863 - val_loss: 0.8460 - val_accuracy: 0.7772\n",
            "Epoch 20/128\n",
            "26/26 [==============================] - 3s 121ms/step - loss: 0.1112 - accuracy: 0.9863 - val_loss: 0.8965 - val_accuracy: 0.7720\n",
            "Epoch 21/128\n",
            "26/26 [==============================] - 3s 122ms/step - loss: 0.1073 - accuracy: 0.9863 - val_loss: 0.9488 - val_accuracy: 0.7634\n",
            "Epoch 22/128\n",
            "26/26 [==============================] - 4s 169ms/step - loss: 0.1169 - accuracy: 0.9866 - val_loss: 0.9058 - val_accuracy: 0.7763\n",
            "Epoch 23/128\n",
            "26/26 [==============================] - 3s 122ms/step - loss: 0.1024 - accuracy: 0.9896 - val_loss: 0.9843 - val_accuracy: 0.7573\n",
            "Epoch 24/128\n",
            "26/26 [==============================] - 3s 122ms/step - loss: 0.0994 - accuracy: 0.9907 - val_loss: 0.9825 - val_accuracy: 0.7651\n",
            "Epoch 25/128\n",
            "26/26 [==============================] - 3s 123ms/step - loss: 0.1001 - accuracy: 0.9902 - val_loss: 0.9247 - val_accuracy: 0.7772\n",
            "Epoch 26/128\n",
            "26/26 [==============================] - 5s 207ms/step - loss: 0.0953 - accuracy: 0.9913 - val_loss: 0.9307 - val_accuracy: 0.7737\n",
            "Epoch 27/128\n",
            "26/26 [==============================] - 3s 121ms/step - loss: 0.0917 - accuracy: 0.9921 - val_loss: 0.9568 - val_accuracy: 0.7781\n",
            "Epoch 28/128\n",
            "26/26 [==============================] - 3s 120ms/step - loss: 0.0908 - accuracy: 0.9916 - val_loss: 1.0011 - val_accuracy: 0.7599\n",
            "Epoch 29/128\n",
            "26/26 [==============================] - 4s 174ms/step - loss: 0.0922 - accuracy: 0.9890 - val_loss: 1.0144 - val_accuracy: 0.7755\n",
            "Epoch 30/128\n",
            "26/26 [==============================] - 3s 120ms/step - loss: 0.1106 - accuracy: 0.9863 - val_loss: 0.9880 - val_accuracy: 0.7660\n",
            "Epoch 31/128\n",
            "26/26 [==============================] - 3s 121ms/step - loss: 0.1082 - accuracy: 0.9860 - val_loss: 0.9550 - val_accuracy: 0.7729\n",
            "Epoch 32/128\n",
            "26/26 [==============================] - 4s 144ms/step - loss: 0.1157 - accuracy: 0.9831 - val_loss: 1.0386 - val_accuracy: 0.7556\n",
            "Epoch 33/128\n",
            "26/26 [==============================] - 4s 140ms/step - loss: 0.1322 - accuracy: 0.9788 - val_loss: 1.0877 - val_accuracy: 0.7453\n",
            "Epoch 34/128\n",
            "26/26 [==============================] - 3s 121ms/step - loss: 0.1512 - accuracy: 0.9745 - val_loss: 0.9912 - val_accuracy: 0.7547\n",
            "Epoch 35/128\n",
            "26/26 [==============================] - 3s 125ms/step - loss: 0.1426 - accuracy: 0.9786 - val_loss: 0.9539 - val_accuracy: 0.7694\n",
            "Epoch 36/128\n",
            "26/26 [==============================] - 4s 169ms/step - loss: 0.1159 - accuracy: 0.9908 - val_loss: 0.9436 - val_accuracy: 0.7824\n",
            "Epoch 37/128\n",
            "26/26 [==============================] - 4s 138ms/step - loss: 0.0980 - accuracy: 0.9951 - val_loss: 0.9162 - val_accuracy: 0.7815\n",
            "Epoch 38/128\n",
            "26/26 [==============================] - 4s 150ms/step - loss: 0.0887 - accuracy: 0.9959 - val_loss: 0.9310 - val_accuracy: 0.7884\n",
            "Epoch 39/128\n",
            "26/26 [==============================] - 4s 170ms/step - loss: 0.0813 - accuracy: 0.9969 - val_loss: 0.9685 - val_accuracy: 0.7867\n",
            "Epoch 40/128\n",
            "26/26 [==============================] - 3s 120ms/step - loss: 0.0771 - accuracy: 0.9960 - val_loss: 0.9827 - val_accuracy: 0.7902\n",
            "Epoch 41/128\n",
            "26/26 [==============================] - 3s 120ms/step - loss: 0.0738 - accuracy: 0.9960 - val_loss: 0.9723 - val_accuracy: 0.7936\n",
            "Epoch 42/128\n",
            "26/26 [==============================] - 3s 120ms/step - loss: 0.0683 - accuracy: 0.9969 - val_loss: 0.9902 - val_accuracy: 0.7927\n",
            "Epoch 43/128\n",
            "26/26 [==============================] - 4s 174ms/step - loss: 0.0658 - accuracy: 0.9973 - val_loss: 1.0128 - val_accuracy: 0.7910\n",
            "Epoch 44/128\n",
            "26/26 [==============================] - 3s 123ms/step - loss: 0.0619 - accuracy: 0.9969 - val_loss: 1.0316 - val_accuracy: 0.7832\n",
            "Epoch 45/128\n",
            "26/26 [==============================] - 3s 120ms/step - loss: 0.0597 - accuracy: 0.9965 - val_loss: 1.0329 - val_accuracy: 0.7893\n",
            "Epoch 46/128\n",
            "26/26 [==============================] - 4s 163ms/step - loss: 0.0597 - accuracy: 0.9969 - val_loss: 1.0289 - val_accuracy: 0.7893\n",
            "Epoch 47/128\n",
            "26/26 [==============================] - 3s 123ms/step - loss: 0.0591 - accuracy: 0.9963 - val_loss: 1.0554 - val_accuracy: 0.7781\n",
            "Epoch 48/128\n",
            "26/26 [==============================] - 3s 123ms/step - loss: 0.0586 - accuracy: 0.9960 - val_loss: 1.0392 - val_accuracy: 0.7876\n",
            "Epoch 49/128\n",
            "26/26 [==============================] - 3s 120ms/step - loss: 0.0592 - accuracy: 0.9960 - val_loss: 1.0668 - val_accuracy: 0.7867\n",
            "Epoch 50/128\n",
            "26/26 [==============================] - 5s 176ms/step - loss: 0.0592 - accuracy: 0.9959 - val_loss: 1.0748 - val_accuracy: 0.7772\n",
            "Epoch 51/128\n",
            "26/26 [==============================] - 3s 121ms/step - loss: 0.0641 - accuracy: 0.9953 - val_loss: 1.0741 - val_accuracy: 0.7832\n",
            "Epoch 52/128\n",
            "26/26 [==============================] - 3s 120ms/step - loss: 0.0641 - accuracy: 0.9950 - val_loss: 1.0766 - val_accuracy: 0.7850\n",
            "Epoch 53/128\n",
            "26/26 [==============================] - 4s 151ms/step - loss: 0.0656 - accuracy: 0.9939 - val_loss: 1.0245 - val_accuracy: 0.7798\n",
            "Epoch 54/128\n",
            "26/26 [==============================] - 4s 133ms/step - loss: 0.0643 - accuracy: 0.9944 - val_loss: 1.0439 - val_accuracy: 0.7832\n",
            "Epoch 55/128\n",
            "26/26 [==============================] - 3s 118ms/step - loss: 0.0639 - accuracy: 0.9954 - val_loss: 1.0312 - val_accuracy: 0.7884\n",
            "Epoch 56/128\n",
            "26/26 [==============================] - 3s 119ms/step - loss: 0.0630 - accuracy: 0.9956 - val_loss: 1.0989 - val_accuracy: 0.7737\n",
            "Epoch 57/128\n",
            "26/26 [==============================] - 4s 169ms/step - loss: 0.0628 - accuracy: 0.9947 - val_loss: 1.0401 - val_accuracy: 0.7763\n",
            "Epoch 58/128\n",
            "26/26 [==============================] - 3s 128ms/step - loss: 0.0674 - accuracy: 0.9936 - val_loss: 1.0936 - val_accuracy: 0.7798\n",
            "Epoch 59/128\n",
            "26/26 [==============================] - 4s 153ms/step - loss: 0.0674 - accuracy: 0.9931 - val_loss: 1.0092 - val_accuracy: 0.7867\n",
            "Epoch 60/128\n",
            "26/26 [==============================] - 4s 170ms/step - loss: 0.0734 - accuracy: 0.9930 - val_loss: 1.0036 - val_accuracy: 0.7893\n",
            "Epoch 61/128\n",
            "26/26 [==============================] - 3s 119ms/step - loss: 0.0679 - accuracy: 0.9948 - val_loss: 1.0809 - val_accuracy: 0.7850\n",
            "Epoch 62/128\n",
            "26/26 [==============================] - 3s 122ms/step - loss: 0.0660 - accuracy: 0.9951 - val_loss: 1.0528 - val_accuracy: 0.7824\n",
            "Epoch 63/128\n",
            "26/26 [==============================] - 3s 119ms/step - loss: 0.0697 - accuracy: 0.9942 - val_loss: 1.0966 - val_accuracy: 0.7807\n",
            "Epoch 64/128\n",
            "26/26 [==============================] - 4s 173ms/step - loss: 0.0659 - accuracy: 0.9950 - val_loss: 1.0634 - val_accuracy: 0.7815\n",
            "Epoch 65/128\n",
            "26/26 [==============================] - 3s 121ms/step - loss: 0.0614 - accuracy: 0.9963 - val_loss: 1.0683 - val_accuracy: 0.7807\n",
            "Epoch 66/128\n",
            "26/26 [==============================] - 3s 117ms/step - loss: 0.0584 - accuracy: 0.9960 - val_loss: 1.0845 - val_accuracy: 0.7807\n",
            "Epoch 67/128\n",
            "26/26 [==============================] - 4s 160ms/step - loss: 0.0575 - accuracy: 0.9962 - val_loss: 1.0647 - val_accuracy: 0.7850\n",
            "Epoch 68/128\n",
            "26/26 [==============================] - 3s 120ms/step - loss: 0.0600 - accuracy: 0.9944 - val_loss: 1.0247 - val_accuracy: 0.7850\n",
            "Epoch 69/128\n",
            "26/26 [==============================] - 3s 119ms/step - loss: 0.0586 - accuracy: 0.9960 - val_loss: 1.0122 - val_accuracy: 0.7867\n",
            "Epoch 70/128\n",
            "26/26 [==============================] - 3s 120ms/step - loss: 0.0615 - accuracy: 0.9948 - val_loss: 1.0548 - val_accuracy: 0.7763\n",
            "Epoch 71/128\n",
            "26/26 [==============================] - 4s 173ms/step - loss: 0.0575 - accuracy: 0.9957 - val_loss: 1.1175 - val_accuracy: 0.7772\n",
            "Epoch 72/128\n",
            "26/26 [==============================] - 3s 120ms/step - loss: 0.0578 - accuracy: 0.9954 - val_loss: 1.1379 - val_accuracy: 0.7824\n",
            "Epoch 73/128\n",
            "26/26 [==============================] - 3s 119ms/step - loss: 0.0574 - accuracy: 0.9951 - val_loss: 1.1249 - val_accuracy: 0.7798\n",
            "Epoch 74/128\n",
            "26/26 [==============================] - 7s 285ms/step - loss: 0.0643 - accuracy: 0.9939 - val_loss: 1.0821 - val_accuracy: 0.7876\n",
            "Epoch 75/128\n",
            "26/26 [==============================] - 9s 334ms/step - loss: 0.0658 - accuracy: 0.9942 - val_loss: 1.0990 - val_accuracy: 0.7893\n",
            "Epoch 76/128\n",
            "26/26 [==============================] - 4s 155ms/step - loss: 0.0713 - accuracy: 0.9928 - val_loss: 1.1543 - val_accuracy: 0.7832\n",
            "Epoch 77/128\n",
            "26/26 [==============================] - 4s 172ms/step - loss: 0.0670 - accuracy: 0.9934 - val_loss: 1.1626 - val_accuracy: 0.7746\n",
            "Epoch 78/128\n",
            "26/26 [==============================] - 3s 122ms/step - loss: 0.0662 - accuracy: 0.9930 - val_loss: 1.1899 - val_accuracy: 0.7720\n",
            "Epoch 79/128\n",
            "26/26 [==============================] - 4s 171ms/step - loss: 0.0778 - accuracy: 0.9912 - val_loss: 1.1525 - val_accuracy: 0.7755\n",
            "Epoch 80/128\n",
            "26/26 [==============================] - 3s 120ms/step - loss: 0.0762 - accuracy: 0.9925 - val_loss: 1.0941 - val_accuracy: 0.7815\n",
            "Epoch 81/128\n",
            "26/26 [==============================] - 3s 117ms/step - loss: 0.0767 - accuracy: 0.9925 - val_loss: 1.1141 - val_accuracy: 0.7772\n",
            "Epoch 82/128\n",
            "26/26 [==============================] - 4s 160ms/step - loss: 0.0798 - accuracy: 0.9915 - val_loss: 1.0114 - val_accuracy: 0.7927\n",
            "Epoch 83/128\n",
            "26/26 [==============================] - 3s 124ms/step - loss: 0.0731 - accuracy: 0.9945 - val_loss: 1.0468 - val_accuracy: 0.7902\n",
            "Epoch 84/128\n",
            "26/26 [==============================] - 3s 122ms/step - loss: 0.0749 - accuracy: 0.9933 - val_loss: 1.0177 - val_accuracy: 0.7867\n",
            "Epoch 85/128\n",
            "26/26 [==============================] - 3s 119ms/step - loss: 0.0722 - accuracy: 0.9947 - val_loss: 1.0180 - val_accuracy: 0.7884\n",
            "Epoch 86/128\n",
            "26/26 [==============================] - 4s 167ms/step - loss: 0.0673 - accuracy: 0.9953 - val_loss: 1.0625 - val_accuracy: 0.7824\n",
            "Epoch 87/128\n",
            "26/26 [==============================] - 3s 118ms/step - loss: 0.0621 - accuracy: 0.9968 - val_loss: 1.1047 - val_accuracy: 0.7807\n",
            "Epoch 88/128\n",
            "26/26 [==============================] - 3s 121ms/step - loss: 0.0568 - accuracy: 0.9974 - val_loss: 1.1425 - val_accuracy: 0.7772\n",
            "Epoch 89/128\n",
            "26/26 [==============================] - 3s 127ms/step - loss: 0.0536 - accuracy: 0.9974 - val_loss: 1.1569 - val_accuracy: 0.7781\n",
            "Epoch 90/128\n",
            "26/26 [==============================] - 4s 157ms/step - loss: 0.0511 - accuracy: 0.9976 - val_loss: 1.1620 - val_accuracy: 0.7720\n",
            "Epoch 91/128\n",
            "26/26 [==============================] - 3s 116ms/step - loss: 0.0491 - accuracy: 0.9974 - val_loss: 1.1567 - val_accuracy: 0.7781\n",
            "Epoch 92/128\n",
            "26/26 [==============================] - 3s 117ms/step - loss: 0.0515 - accuracy: 0.9960 - val_loss: 1.1859 - val_accuracy: 0.7737\n",
            "Epoch 93/128\n",
            "26/26 [==============================] - 4s 171ms/step - loss: 0.0503 - accuracy: 0.9960 - val_loss: 1.1879 - val_accuracy: 0.7746\n",
            "Epoch 94/128\n",
            "26/26 [==============================] - 3s 118ms/step - loss: 0.0479 - accuracy: 0.9965 - val_loss: 1.1947 - val_accuracy: 0.7824\n",
            "Epoch 95/128\n",
            "26/26 [==============================] - 3s 117ms/step - loss: 0.0490 - accuracy: 0.9966 - val_loss: 1.2118 - val_accuracy: 0.7720\n",
            "Epoch 96/128\n",
            "26/26 [==============================] - 3s 119ms/step - loss: 0.0513 - accuracy: 0.9960 - val_loss: 1.1619 - val_accuracy: 0.7850\n",
            "Epoch 97/128\n",
            "26/26 [==============================] - 4s 172ms/step - loss: 0.0516 - accuracy: 0.9956 - val_loss: 1.2456 - val_accuracy: 0.7815\n",
            "Epoch 98/128\n",
            "26/26 [==============================] - 4s 156ms/step - loss: 0.0539 - accuracy: 0.9951 - val_loss: 1.1098 - val_accuracy: 0.7867\n",
            "Epoch 99/128\n",
            "26/26 [==============================] - 7s 251ms/step - loss: 0.0512 - accuracy: 0.9960 - val_loss: 1.1497 - val_accuracy: 0.7858\n",
            "Epoch 100/128\n",
            "26/26 [==============================] - 3s 126ms/step - loss: 0.0501 - accuracy: 0.9963 - val_loss: 1.1726 - val_accuracy: 0.7858\n",
            "Epoch 101/128\n",
            "26/26 [==============================] - 3s 118ms/step - loss: 0.0515 - accuracy: 0.9956 - val_loss: 1.1249 - val_accuracy: 0.7841\n",
            "Epoch 102/128\n",
            "26/26 [==============================] - 3s 121ms/step - loss: 0.0498 - accuracy: 0.9963 - val_loss: 1.2053 - val_accuracy: 0.7919\n",
            "Epoch 103/128\n",
            "26/26 [==============================] - 4s 168ms/step - loss: 0.0537 - accuracy: 0.9948 - val_loss: 1.1336 - val_accuracy: 0.7910\n",
            "Epoch 104/128\n",
            "26/26 [==============================] - 3s 125ms/step - loss: 0.0537 - accuracy: 0.9956 - val_loss: 1.2146 - val_accuracy: 0.7867\n",
            "Epoch 105/128\n",
            "26/26 [==============================] - 3s 121ms/step - loss: 0.0544 - accuracy: 0.9954 - val_loss: 1.2332 - val_accuracy: 0.7789\n",
            "Epoch 106/128\n",
            "26/26 [==============================] - 3s 134ms/step - loss: 0.0538 - accuracy: 0.9959 - val_loss: 1.2699 - val_accuracy: 0.7807\n",
            "Epoch 107/128\n",
            "26/26 [==============================] - 4s 143ms/step - loss: 0.0529 - accuracy: 0.9956 - val_loss: 1.2126 - val_accuracy: 0.7763\n",
            "Epoch 108/128\n",
            "26/26 [==============================] - 3s 119ms/step - loss: 0.0519 - accuracy: 0.9966 - val_loss: 1.2645 - val_accuracy: 0.7729\n",
            "Epoch 109/128\n",
            "26/26 [==============================] - 3s 120ms/step - loss: 0.0591 - accuracy: 0.9942 - val_loss: 1.1976 - val_accuracy: 0.7815\n",
            "Epoch 110/128\n",
            "26/26 [==============================] - 4s 170ms/step - loss: 0.0610 - accuracy: 0.9939 - val_loss: 1.1448 - val_accuracy: 0.7807\n",
            "Epoch 111/128\n",
            "26/26 [==============================] - 3s 117ms/step - loss: 0.0663 - accuracy: 0.9933 - val_loss: 1.2719 - val_accuracy: 0.7712\n",
            "Epoch 112/128\n",
            "26/26 [==============================] - 3s 117ms/step - loss: 0.0605 - accuracy: 0.9950 - val_loss: 1.1671 - val_accuracy: 0.7789\n",
            "Epoch 113/128\n",
            "26/26 [==============================] - 3s 125ms/step - loss: 0.0635 - accuracy: 0.9937 - val_loss: 1.1316 - val_accuracy: 0.7884\n",
            "Epoch 114/128\n",
            "26/26 [==============================] - 4s 171ms/step - loss: 0.0617 - accuracy: 0.9950 - val_loss: 1.1556 - val_accuracy: 0.7893\n",
            "Epoch 115/128\n",
            "26/26 [==============================] - 3s 121ms/step - loss: 0.0569 - accuracy: 0.9968 - val_loss: 1.1327 - val_accuracy: 0.7884\n",
            "Epoch 116/128\n",
            "26/26 [==============================] - 3s 119ms/step - loss: 0.0534 - accuracy: 0.9971 - val_loss: 1.1712 - val_accuracy: 0.7789\n",
            "Epoch 117/128\n",
            "26/26 [==============================] - 4s 162ms/step - loss: 0.0504 - accuracy: 0.9969 - val_loss: 1.1686 - val_accuracy: 0.7772\n",
            "Epoch 118/128\n",
            "26/26 [==============================] - 3s 122ms/step - loss: 0.0483 - accuracy: 0.9973 - val_loss: 1.2351 - val_accuracy: 0.7798\n",
            "Epoch 119/128\n",
            "26/26 [==============================] - 4s 143ms/step - loss: 0.0456 - accuracy: 0.9974 - val_loss: 1.2190 - val_accuracy: 0.7824\n",
            "Epoch 120/128\n",
            "26/26 [==============================] - 4s 154ms/step - loss: 0.0436 - accuracy: 0.9976 - val_loss: 1.2205 - val_accuracy: 0.7815\n",
            "Epoch 121/128\n",
            "26/26 [==============================] - 4s 151ms/step - loss: 0.0411 - accuracy: 0.9974 - val_loss: 1.2396 - val_accuracy: 0.7832\n",
            "Epoch 122/128\n",
            "26/26 [==============================] - 3s 119ms/step - loss: 0.0398 - accuracy: 0.9977 - val_loss: 1.2480 - val_accuracy: 0.7789\n",
            "Epoch 123/128\n",
            "26/26 [==============================] - 3s 119ms/step - loss: 0.0405 - accuracy: 0.9976 - val_loss: 1.2361 - val_accuracy: 0.7876\n",
            "Epoch 124/128\n",
            "26/26 [==============================] - 4s 168ms/step - loss: 0.0390 - accuracy: 0.9969 - val_loss: 1.2488 - val_accuracy: 0.7832\n",
            "Epoch 125/128\n",
            "26/26 [==============================] - 3s 118ms/step - loss: 0.0398 - accuracy: 0.9962 - val_loss: 1.2970 - val_accuracy: 0.7798\n",
            "Epoch 126/128\n",
            "26/26 [==============================] - 3s 123ms/step - loss: 0.0451 - accuracy: 0.9960 - val_loss: 1.3383 - val_accuracy: 0.7729\n",
            "Epoch 127/128\n",
            "26/26 [==============================] - 3s 119ms/step - loss: 0.0445 - accuracy: 0.9957 - val_loss: 1.3030 - val_accuracy: 0.7789\n",
            "Epoch 128/128\n",
            "26/26 [==============================] - 4s 170ms/step - loss: 0.0451 - accuracy: 0.9960 - val_loss: 1.3491 - val_accuracy: 0.7737\n"
          ]
        }
      ],
      "source": [
        "emb_dims = 256\n",
        "\n",
        "model = Sequential()\n",
        "model.add(Embedding(vocab_size, emb_dims, input_length=max_length, embeddings_regularizer = tf.keras.regularizers.l2(0.0001)))\n",
        "model.add(LSTM(units = 16, dropout = 0.2,recurrent_dropout = 0.2))\n",
        "model.add(Dense(3, activation='softmax'))\n",
        "\n",
        "model.compile(loss='categorical_crossentropy', optimizer='adam', metrics=['accuracy'])\n",
        "\n",
        "history = model.fit(X_train_seq_pad, y_train_oh, epochs = 128, batch_size = 256, validation_data=(X_val_seq_pad, y_val_oh), shuffle=False)"
      ]
    },
    {
      "cell_type": "code",
      "execution_count": null,
      "metadata": {
        "colab": {
          "base_uri": "https://localhost:8080/",
          "height": 472
        },
        "id": "LvqZ-lxJyvuf",
        "outputId": "c9967a04-d524-4b4e-9880-2996128466c7"
      },
      "outputs": [
        {
          "output_type": "display_data",
          "data": {
            "text/plain": [
              "<Figure size 640x480 with 1 Axes>"
            ],
            "image/png": "[encoded data removed]"
          },
          "metadata": {}
        }
      ],
      "source": [
        "plt.plot(history.history['accuracy'])\n",
        "plt.plot(history.history['val_accuracy'])\n",
        "plt.title('Model accuracy')\n",
        "plt.ylabel('Accuracy')\n",
        "plt.xlabel('Epoch')\n",
        "plt.legend(['Train', 'Test'], loc='upper left')\n",
        "plt.show()"
      ]
    },
    {
      "cell_type": "code",
      "execution_count": null,
      "metadata": {
        "colab": {
          "base_uri": "https://localhost:8080/"
        },
        "id": "jJMNuByCRbBL",
        "outputId": "0e4eb54f-6b78-4b65-c371-2c002d7935f2"
      },
      "outputs": [
        {
          "name": "stdout",
          "output_type": "stream",
          "text": [
            "Model: \"sequential\"\n",
            "_________________________________________________________________\n",
            "Layer (type)                 Output Shape              Param #   \n",
            "=================================================================\n",
            "embedding (Embedding)        (None, 20, 256)           5523200   \n",
            "_________________________________________________________________\n",
            "lstm (LSTM)                  (None, 16)                17472     \n",
            "_________________________________________________________________\n",
            "dense (Dense)                (None, 3)                 51        \n",
            "=================================================================\n",
            "Total params: 5,540,723\n",
            "Trainable params: 5,540,723\n",
            "Non-trainable params: 0\n",
            "_________________________________________________________________\n"
          ]
        }
      ],
      "source": [
        "model.summary()\n"
      ]
    },
    {
      "cell_type": "code",
      "execution_count": null,
      "metadata": {
        "colab": {
          "base_uri": "https://localhost:8080/"
        },
        "id": "k6YKpCP3NQrd",
        "outputId": "a431e3f5-c073-4656-dbc4-90040322102b"
      },
      "outputs": [
        {
          "output_type": "stream",
          "name": "stdout",
          "text": [
            "43/43 [==============================] - 0s 9ms/step - loss: 1.2971 - accuracy: 0.7893\n",
            "/n\n",
            "Test accuracy of word embeddings model: 78.93%\n"
          ]
        }
      ],
      "source": [
        "results = model.evaluate(X_test_seq_pad, y_test_oh)\n",
        "print('/n')\n",
        "print('Test accuracy of word embeddings model: {0:.2f}%'.format(results[1]*100))"
      ]
    },
    {
      "cell_type": "code",
      "execution_count": null,
      "metadata": {
        "colab": {
          "base_uri": "https://localhost:8080/"
        },
        "id": "uQm45MSMHy9O",
        "outputId": "37339fc4-19d1-4dca-a9ed-de30455e860b"
      },
      "outputs": [
        {
          "output_type": "stream",
          "name": "stdout",
          "text": [
            "37/37 [==============================] - 0s 10ms/step - loss: 1.3491 - accuracy: 0.7737\n",
            "/n\n",
            "Validation accuracy of word embeddings model: 77.37%\n"
          ]
        }
      ],
      "source": [
        "results = model.evaluate(X_val_seq_pad, y_val_oh)\n",
        "print('/n')\n",
        "print('Validation accuracy of word embeddings model: {0:.2f}%'.format(results[1]*100))"
      ]
    },
    {
      "cell_type": "code",
      "execution_count": null,
      "metadata": {
        "id": "LRxpuUuan_Ds"
      },
      "outputs": [],
      "source": [
        "df2=pd.DataFrame({'sentiment':['कश्मीर में हो रहा है जल जिहाद ।']})"
      ]
    },
    {
      "cell_type": "code",
      "execution_count": null,
      "metadata": {
        "colab": {
          "base_uri": "https://localhost:8080/"
        },
        "id": "9Ph0vJXPlIWH",
        "outputId": "dafa224c-0626-47b7-e0de-fc96f51463e0"
      },
      "outputs": [
        {
          "name": "stdout",
          "output_type": "stream",
          "text": [
            "['कश्मीर में हो रहा है जल जिहाद ।']\n",
            "[[166, 2, 24, 36, 4, 542, 1591, 119]]\n",
            "[[ 166    2   24   36    4  542 1591  119    0    0    0    0    0    0\n",
            "     0    0    0    0    0    0]]\n"
          ]
        }
      ],
      "source": [
        "x=[\"कश्मीर में हो रहा है जल जिहाद ।\"]\n",
        "print(x)\n",
        "y=tk.texts_to_sequences(x)\n",
        "print(y)\n",
        "y = pad_sequences(y, maxlen=max_length, padding='post')\n",
        "print(y)"
      ]
    },
    {
      "cell_type": "code",
      "execution_count": null,
      "metadata": {
        "colab": {
          "base_uri": "https://localhost:8080/"
        },
        "id": "nELGAiLroij2",
        "outputId": "f2ea4da3-1253-4e3d-e840-2ae247066533"
      },
      "outputs": [
        {
          "name": "stdout",
          "output_type": "stream",
          "text": [
            "negative\n"
          ]
        }
      ],
      "source": [
        "z=model.predict(y)\n",
        "prob=np.array(z[0])\n",
        "pred=prob.argmax()\n",
        "if(pred==0):\n",
        "  print(\"negative\")\n",
        "elif(pred==1):\n",
        "  print(\"positive\")\n",
        "elif(pred==2):\n",
        "  print(\"neutral\")"
      ]
    },
    {
      "cell_type": "code",
      "execution_count": null,
      "metadata": {
        "colab": {
          "base_uri": "https://localhost:8080/",
          "height": 363
        },
        "id": "XTEtyYCkztk-",
        "outputId": "93ce8278-067f-4216-a55a-c3a34a04fec2"
      },
      "outputs": [
        {
          "output_type": "execute_result",
          "data": {
            "text/plain": [
              "  source  target                                           sentence\n",
              "0     tom  marty  GST is victory of honesty: PM\\nअगर ये सहीं है ...\n",
              "1   manny  marty  क़सम से युपीए 3 आई तो मै भी कांग्रेसी बन जांऊग...\n",
              "2     tom  manny  मुसलमान ISIS जैसे आतंकी संगठन को भी बडे गर्व स...\n",
              "3     tom  manny  RT @aajtak: #MOJO 3 तलाक का दर्द, पीड़ितों की ...\n",
              "4   marty    tom  RT @Siddhartha_Giri: ╭────╯•╰────╮\\n👌❣️👌\\n\\nया...\n",
              "5     tom  brady  RT @Siddhartha_Giri: #KXIPvRCB\\nटॉस जीता है मै...\n",
              "6   brady   paul  बेटे की हत्या का डर दिखाकर डॉक्टर से मांगी 1 क...\n",
              "7   paul   marty  जब तन्हा रातो में मोगैम्बो चिलाता है की मोगैम्...\n",
              "8     sam   rick  शाम 4:30 बजे और रात 8:30 बजे aajtak पर @yadava...\n",
              "9   marty   paul  कुछ ऐसे भी हादसे होते है जिंदगी मेंइंसान बच तो..."
            ],
            "text/html": [
              "\n",
              "  <div id=\"df-5359f51e-c10b-4f5c-af08-10880d3af34c\">\n",
              "    <div class=\"colab-df-container\">\n",
              "      <div>\n",
              "<style scoped>\n",
              "    .dataframe tbody tr th:only-of-type {\n",
              "        vertical-align: middle;\n",
              "    }\n",
              "\n",
              "    .dataframe tbody tr th {\n",
              "        vertical-align: top;\n",
              "    }\n",
              "\n",
              "    .dataframe thead th {\n",
              "        text-align: right;\n",
              "    }\n",
              "</style>\n",
              "<table border=\"1\" class=\"dataframe\">\n",
              "  <thead>\n",
              "    <tr style=\"text-align: right;\">\n",
              "      <th></th>\n",
              "      <th>source</th>\n",
              "      <th>target</th>\n",
              "      <th>sentence</th>\n",
              "    </tr>\n",
              "  </thead>\n",
              "  <tbody>\n",
              "    <tr>\n",
              "      <th>0</th>\n",
              "      <td>tom</td>\n",
              "      <td>marty</td>\n",
              "      <td>GST is victory of honesty: PM\\nअगर ये सहीं है ...</td>\n",
              "    </tr>\n",
              "    <tr>\n",
              "      <th>1</th>\n",
              "      <td>manny</td>\n",
              "      <td>marty</td>\n",
              "      <td>क़सम से युपीए 3 आई तो मै भी कांग्रेसी बन जांऊग...</td>\n",
              "    </tr>\n",
              "    <tr>\n",
              "      <th>2</th>\n",
              "      <td>tom</td>\n",
              "      <td>manny</td>\n",
              "      <td>मुसलमान ISIS जैसे आतंकी संगठन को भी बडे गर्व स...</td>\n",
              "    </tr>\n",
              "    <tr>\n",
              "      <th>3</th>\n",
              "      <td>tom</td>\n",
              "      <td>manny</td>\n",
              "      <td>RT @aajtak: #MOJO 3 तलाक का दर्द, पीड़ितों की ...</td>\n",
              "    </tr>\n",
              "    <tr>\n",
              "      <th>4</th>\n",
              "      <td>marty</td>\n",
              "      <td>tom</td>\n",
              "      <td>RT @Siddhartha_Giri: ╭────╯•╰────╮\\n👌❣️👌\\n\\nया...</td>\n",
              "    </tr>\n",
              "    <tr>\n",
              "      <th>5</th>\n",
              "      <td>tom</td>\n",
              "      <td>brady</td>\n",
              "      <td>RT @Siddhartha_Giri: #KXIPvRCB\\nटॉस जीता है मै...</td>\n",
              "    </tr>\n",
              "    <tr>\n",
              "      <th>6</th>\n",
              "      <td>brady</td>\n",
              "      <td>paul</td>\n",
              "      <td>बेटे की हत्या का डर दिखाकर डॉक्टर से मांगी 1 क...</td>\n",
              "    </tr>\n",
              "    <tr>\n",
              "      <th>7</th>\n",
              "      <td>paul</td>\n",
              "      <td>marty</td>\n",
              "      <td>जब तन्हा रातो में मोगैम्बो चिलाता है की मोगैम्...</td>\n",
              "    </tr>\n",
              "    <tr>\n",
              "      <th>8</th>\n",
              "      <td>sam</td>\n",
              "      <td>rick</td>\n",
              "      <td>शाम 4:30 बजे और रात 8:30 बजे aajtak पर @yadava...</td>\n",
              "    </tr>\n",
              "    <tr>\n",
              "      <th>9</th>\n",
              "      <td>marty</td>\n",
              "      <td>paul</td>\n",
              "      <td>कुछ ऐसे भी हादसे होते है जिंदगी मेंइंसान बच तो...</td>\n",
              "    </tr>\n",
              "  </tbody>\n",
              "</table>\n",
              "</div>\n",
              "      <button class=\"colab-df-convert\" onclick=\"convertToInteractive('df-5359f51e-c10b-4f5c-af08-10880d3af34c')\"\n",
              "              title=\"Convert this dataframe to an interactive table.\"\n",
              "              style=\"display:none;\">\n",
              "        \n",
              "  <svg xmlns=\"http://www.w3.org/2000/svg\" height=\"24px\"viewBox=\"0 0 24 24\"\n",
              "       width=\"24px\">\n",
              "    <path d=\"M0 0h24v24H0V0z\" fill=\"none\"/>\n",
              "    <path d=\"M18.56 5.44l.94 2.06.94-2.06 2.06-.94-2.06-.94-.94-2.06-.94 2.06-2.06.94zm-11 1L8.5 8.5l.94-2.06 2.06-.94-2.06-.94L8.5 2.5l-.94 2.06-2.06.94zm10 10l.94 2.06.94-2.06 2.06-.94-2.06-.94-.94-2.06-.94 2.06-2.06.94z\"/><path d=\"M17.41 7.96l-1.37-1.37c-.4-.4-.92-.59-1.43-.59-.52 0-1.04.2-1.43.59L10.3 9.45l-7.72 7.72c-.78.78-.78 2.05 0 2.83L4 21.41c.39.39.9.59 1.41.59.51 0 1.02-.2 1.41-.59l7.78-7.78 2.81-2.81c.8-.78.8-2.07 0-2.86zM5.41 20L4 18.59l7.72-7.72 1.47 1.35L5.41 20z\"/>\n",
              "  </svg>\n",
              "      </button>\n",
              "      \n",
              "  <style>\n",
              "    .colab-df-container {\n",
              "      display:flex;\n",
              "      flex-wrap:wrap;\n",
              "      gap: 12px;\n",
              "    }\n",
              "\n",
              "    .colab-df-convert {\n",
              "      background-color: #E8F0FE;\n",
              "      border: none;\n",
              "      border-radius: 50%;\n",
              "      cursor: pointer;\n",
              "      display: none;\n",
              "      fill: #1967D2;\n",
              "      height: 32px;\n",
              "      padding: 0 0 0 0;\n",
              "      width: 32px;\n",
              "    }\n",
              "\n",
              "    .colab-df-convert:hover {\n",
              "      background-color: #E2EBFA;\n",
              "      box-shadow: 0px 1px 2px rgba(60, 64, 67, 0.3), 0px 1px 3px 1px rgba(60, 64, 67, 0.15);\n",
              "      fill: #174EA6;\n",
              "    }\n",
              "\n",
              "    [theme=dark] .colab-df-convert {\n",
              "      background-color: #3B4455;\n",
              "      fill: #D2E3FC;\n",
              "    }\n",
              "\n",
              "    [theme=dark] .colab-df-convert:hover {\n",
              "      background-color: #434B5C;\n",
              "      box-shadow: 0px 1px 3px 1px rgba(0, 0, 0, 0.15);\n",
              "      filter: drop-shadow(0px 1px 2px rgba(0, 0, 0, 0.3));\n",
              "      fill: #FFFFFF;\n",
              "    }\n",
              "  </style>\n",
              "\n",
              "      <script>\n",
              "        const buttonEl =\n",
              "          document.querySelector('#df-5359f51e-c10b-4f5c-af08-10880d3af34c button.colab-df-convert');\n",
              "        buttonEl.style.display =\n",
              "          google.colab.kernel.accessAllowed ? 'block' : 'none';\n",
              "\n",
              "        async function convertToInteractive(key) {\n",
              "          const element = document.querySelector('#df-5359f51e-c10b-4f5c-af08-10880d3af34c');\n",
              "          const dataTable =\n",
              "            await google.colab.kernel.invokeFunction('convertToInteractive',\n",
              "                                                     [key], {});\n",
              "          if (!dataTable) return;\n",
              "\n",
              "          const docLinkHtml = 'Like what you see? Visit the ' +\n",
              "            '<a target=\"_blank\" href=https://colab.research.google.com/notebooks/data_table.ipynb>data table notebook</a>'\n",
              "            + ' to learn more about interactive tables.';\n",
              "          element.innerHTML = '';\n",
              "          dataTable['output_type'] = 'display_data';\n",
              "          await google.colab.output.renderOutput(dataTable, element);\n",
              "          const docLink = document.createElement('div');\n",
              "          docLink.innerHTML = docLinkHtml;\n",
              "          element.appendChild(docLink);\n",
              "        }\n",
              "      </script>\n",
              "    </div>\n",
              "  </div>\n",
              "  "
            ]
          },
          "metadata": {},
          "execution_count": 22
        }
      ],
      "source": [
        "df=pd.read_csv('test.csv')\n",
        "df=df.dropna()\n",
        "df"
      ]
    },
    {
      "cell_type": "code",
      "execution_count": null,
      "metadata": {
        "colab": {
          "base_uri": "https://localhost:8080/"
        },
        "id": "OkT7j2SDd490",
        "outputId": "da1594a1-ecb3-4a6a-a972-81a946b36dfe"
      },
      "outputs": [
        {
          "output_type": "stream",
          "name": "stdout",
          "text": [
            "GST is victory of honesty: PM\n",
            "अगर ये सहीं है तो पेट्रोलियम पदार्थों पर इसको अबिलम्ब लागु कीजिये. ईमानदारी थोड़ा और बढ़ेगी\n",
            "[[4965, 614, 11201, 510, 11202, 340, 154, 32, 11203, 4, 27, 11204, 11205, 12, 2197, 11206, 11207, 4869, 2738, 520, 13, 3986]]\n",
            "[[11201   510 11202   340   154    32 11203     4    27 11204 11205    12\n",
            "   2197 11206 11207  4869  2738   520    13  3986]]\n",
            "2\n",
            "क़सम से युपीए 3 आई तो मै भी कांग्रेसी बन जांऊगा साला कब तक ईमानदार बन अपना ही घर जलाऊँगा?\n",
            "[[9556, 8, 9557, 279, 299, 27, 1594, 19, 3765, 263, 9558, 1900, 562, 46, 792, 263, 174, 25, 143, 9559]]\n",
            "[[9556    8 9557  279  299   27 1594   19 3765  263 9558 1900  562   46\n",
            "   792  263  174   25  143 9559]]\n",
            "0\n",
            "मुसलमान ISIS जैसे आतंकी संगठन को भी बडे गर्व से ज्वाइन कर रहे है और यहा लोगो को RSS ज्वाइन करने मे भी शर्म आ रही है धिक्कार है\n",
            "[[973, 1029, 280, 410, 1910, 9, 19, 3193, 1169, 8, 2728, 26, 38, 4, 13, 6214, 834, 9, 1474, 2728, 40, 293, 19, 1734, 132, 37, 4, 6215, 4]]\n",
            "[[   8 2728   26   38    4   13 6214  834    9 1474 2728   40  293   19\n",
            "  1734  132   37    4 6215    4]]\n",
            "0\n",
            "RT @aajtak: #MOJO 3 तलाक का दर्द, पीड़ितों की जुबानी... सच्ची कहानी…अन्य वीडियो: https://t.co/0lHmKyYioS https://t.co/LsjlMyPI8x\n",
            "[[11, 14, 315, 279, 665, 10, 1272, 7185, 3, 9500, 21501, 108, 5, 6, 7, 717, 5, 6, 7, 21502]]\n",
            "[[   11    14   315   279   665    10  1272  7185     3  9500 21501   108\n",
            "      5     6     7   717     5     6     7 21502]]\n",
            "1\n",
            "RT @Siddhartha_Giri: ╭────╯•╰────╮\n",
            "👌❣️👌\n",
            "\n",
            "यादों के स्पर्श बड़े अजीब होते है,\n",
            "\n",
            "कोई पास ना हो फिर भी ये बहुत\n",
            "\n",
            "करीब होते है !!\n",
            "\n",
            "💕 Good night दी…\n",
            "[[11, 6667, 6668, 11369, 11370, 6669, 1, 3334, 382, 2739, 251, 4, 55, 167, 169, 24, 85, 19, 32, 60, 572, 251, 4, 11371, 940, 3335, 6670]]\n",
            "[[ 3334   382  2739   251     4    55   167   169    24    85    19    32\n",
            "     60   572   251     4 11371   940  3335  6670]]\n",
            "2\n",
            "RT @Siddhartha_Giri: #KXIPvRCB\n",
            "टॉस जीता है मैच भी जीतेंगे\n",
            "My Best wishes for #RCB फैन्स\n",
            "@chitraaum दीदी👏 https://t.co/…\n",
            "[[11, 6667, 6668, 11373, 5025, 2727, 4, 192, 19, 6673, 1499, 941, 4997, 1208, 11374, 6674, 1642, 11375, 5, 6, 7, 72]]\n",
            "[[ 6668 11373  5025  2727     4   192    19  6673  1499   941  4997  1208\n",
            "  11374  6674  1642 11375     5     6     7    72]]\n",
            "2\n",
            "बेटे की हत्या का डर दिखाकर डॉक्टर से मांगी 1 करोड़ की रंगदारी, 1 गिरफ्तार https://t.co/DbIdmBUACM\n",
            "[[506, 3, 157, 10, 389, 4233, 1232, 8, 1902, 348, 250, 3, 5144, 348, 238, 5, 6, 7, 14050]]\n",
            "[[  506     3   157    10   389  4233  1232     8  1902   348   250     3\n",
            "   5144   348   238     5     6     7 14050     0]]\n",
            "1\n",
            "जब तन्हा रातो में मोगैम्बो चिलाता है की मोगैम्बो खुश हुवा तो समझिये की मनमोहन सरकार के बुरे सपने याद आ गये\n",
            "[[106, 9540, 9541, 2, 6150, 9542, 4, 3, 6150, 905, 9543, 27, 9544, 3, 2108, 76, 1, 1166, 1593, 584, 132, 970]]\n",
            "[[9541    2 6150 9542    4    3 6150  905 9543   27 9544    3 2108   76\n",
            "     1 1166 1593  584  132  970]]\n",
            "0\n",
            "शाम 4:30 बजे और रात 8:30 बजे aajtak पर @yadavakhilesh Exclusive-\n",
            "\n",
            "मायावती और हमारा गठबंधन शानदार करेगा..@BJP4India… https://t.co/2teDE1I3wM\n",
            "[[215, 376, 374, 71, 13, 269, 528, 374, 71, 14, 12, 1776, 73, 2771, 13, 544, 889, 600, 1405, 11384, 5, 6, 7, 11385]]\n",
            "[[   13   269   528   374    71    14    12  1776    73  2771    13   544\n",
            "    889   600  1405 11384     5     6     7 11385]]\n",
            "2\n",
            "कुछ ऐसे भी हादसे होते है जिंदगी मेंइंसान बच तो जाता है परज़िंदा नहीं रहता शुभ रात्रि मित्रों 😁\n",
            "[[49, 172, 19, 906, 251, 4, 329, 9550, 2375, 27, 155, 4, 9551, 17, 720, 606, 2110, 3764, 9552]]\n",
            "[[  49  172   19  906  251    4  329 9550 2375   27  155    4 9551   17\n",
            "   720  606 2110 3764 9552    0]]\n",
            "0\n"
          ]
        }
      ],
      "source": [
        "weights=[]\n",
        "sentiment=[]\n",
        "curr_sent=[]\n",
        "for index, row in df.iterrows():\n",
        "  print(row['sentence'])\n",
        "  curr_sent.append(row['sentence'])\n",
        "  y=tk.texts_to_sequences(curr_sent)\n",
        "  print(y)\n",
        "  y = pad_sequences(y, maxlen=max_length, padding='post')\n",
        "  print(y)\n",
        "  z=model.predict(y)\n",
        "  prob=np.array(z[0])\n",
        "  pred=prob.argmax()\n",
        "  print(pred)\n",
        "  if(pred==0):\n",
        "    a=-1\n",
        "    sentiment.append('negative')\n",
        "  elif(pred==1):\n",
        "    a=+1\n",
        "    sentiment.append('positive')\n",
        "  elif(pred==2):\n",
        "    a=0\n",
        "    sentiment.append('neutral')\n",
        "  weights.append(a)\n",
        "  curr_sent=[]\n",
        "df['weight']=weights\n",
        "df['sentiment']=sentiment"
      ]
    },
    {
      "cell_type": "code",
      "execution_count": null,
      "metadata": {
        "colab": {
          "base_uri": "https://localhost:8080/",
          "height": 363
        },
        "id": "pu-_R-gektTD",
        "outputId": "9275d8e4-b25c-4b65-cdcb-117238b24c75"
      },
      "outputs": [
        {
          "output_type": "execute_result",
          "data": {
            "text/plain": [
              "  source  target                                           sentence  weight  \\\n",
              "0     tom  marty  GST is victory of honesty: PM\\nअगर ये सहीं है ...       0   \n",
              "1   manny  marty  क़सम से युपीए 3 आई तो मै भी कांग्रेसी बन जांऊग...      -1   \n",
              "2     tom  manny  मुसलमान ISIS जैसे आतंकी संगठन को भी बडे गर्व स...      -1   \n",
              "3     tom  manny  RT @aajtak: #MOJO 3 तलाक का दर्द, पीड़ितों की ...       1   \n",
              "4   marty    tom  RT @Siddhartha_Giri: ╭────╯•╰────╮\\n👌❣️👌\\n\\nया...       0   \n",
              "5     tom  brady  RT @Siddhartha_Giri: #KXIPvRCB\\nटॉस जीता है मै...       0   \n",
              "6   brady   paul  बेटे की हत्या का डर दिखाकर डॉक्टर से मांगी 1 क...       1   \n",
              "7   paul   marty  जब तन्हा रातो में मोगैम्बो चिलाता है की मोगैम्...      -1   \n",
              "8     sam   rick  शाम 4:30 बजे और रात 8:30 बजे aajtak पर @yadava...       0   \n",
              "9   marty   paul  कुछ ऐसे भी हादसे होते है जिंदगी मेंइंसान बच तो...      -1   \n",
              "\n",
              "  sentiment  \n",
              "0   neutral  \n",
              "1  negative  \n",
              "2  negative  \n",
              "3  positive  \n",
              "4   neutral  \n",
              "5   neutral  \n",
              "6  positive  \n",
              "7  negative  \n",
              "8   neutral  \n",
              "9  negative  "
            ],
            "text/html": [
              "\n",
              "  <div id=\"df-23e51b25-6615-42d8-8168-2f305e815de0\">\n",
              "    <div class=\"colab-df-container\">\n",
              "      <div>\n",
              "<style scoped>\n",
              "    .dataframe tbody tr th:only-of-type {\n",
              "        vertical-align: middle;\n",
              "    }\n",
              "\n",
              "    .dataframe tbody tr th {\n",
              "        vertical-align: top;\n",
              "    }\n",
              "\n",
              "    .dataframe thead th {\n",
              "        text-align: right;\n",
              "    }\n",
              "</style>\n",
              "<table border=\"1\" class=\"dataframe\">\n",
              "  <thead>\n",
              "    <tr style=\"text-align: right;\">\n",
              "      <th></th>\n",
              "      <th>source</th>\n",
              "      <th>target</th>\n",
              "      <th>sentence</th>\n",
              "      <th>weight</th>\n",
              "      <th>sentiment</th>\n",
              "    </tr>\n",
              "  </thead>\n",
              "  <tbody>\n",
              "    <tr>\n",
              "      <th>0</th>\n",
              "      <td>tom</td>\n",
              "      <td>marty</td>\n",
              "      <td>GST is victory of honesty: PM\\nअगर ये सहीं है ...</td>\n",
              "      <td>0</td>\n",
              "      <td>neutral</td>\n",
              "    </tr>\n",
              "    <tr>\n",
              "      <th>1</th>\n",
              "      <td>manny</td>\n",
              "      <td>marty</td>\n",
              "      <td>क़सम से युपीए 3 आई तो मै भी कांग्रेसी बन जांऊग...</td>\n",
              "      <td>-1</td>\n",
              "      <td>negative</td>\n",
              "    </tr>\n",
              "    <tr>\n",
              "      <th>2</th>\n",
              "      <td>tom</td>\n",
              "      <td>manny</td>\n",
              "      <td>मुसलमान ISIS जैसे आतंकी संगठन को भी बडे गर्व स...</td>\n",
              "      <td>-1</td>\n",
              "      <td>negative</td>\n",
              "    </tr>\n",
              "    <tr>\n",
              "      <th>3</th>\n",
              "      <td>tom</td>\n",
              "      <td>manny</td>\n",
              "      <td>RT @aajtak: #MOJO 3 तलाक का दर्द, पीड़ितों की ...</td>\n",
              "      <td>1</td>\n",
              "      <td>positive</td>\n",
              "    </tr>\n",
              "    <tr>\n",
              "      <th>4</th>\n",
              "      <td>marty</td>\n",
              "      <td>tom</td>\n",
              "      <td>RT @Siddhartha_Giri: ╭────╯•╰────╮\\n👌❣️👌\\n\\nया...</td>\n",
              "      <td>0</td>\n",
              "      <td>neutral</td>\n",
              "    </tr>\n",
              "    <tr>\n",
              "      <th>5</th>\n",
              "      <td>tom</td>\n",
              "      <td>brady</td>\n",
              "      <td>RT @Siddhartha_Giri: #KXIPvRCB\\nटॉस जीता है मै...</td>\n",
              "      <td>0</td>\n",
              "      <td>neutral</td>\n",
              "    </tr>\n",
              "    <tr>\n",
              "      <th>6</th>\n",
              "      <td>brady</td>\n",
              "      <td>paul</td>\n",
              "      <td>बेटे की हत्या का डर दिखाकर डॉक्टर से मांगी 1 क...</td>\n",
              "      <td>1</td>\n",
              "      <td>positive</td>\n",
              "    </tr>\n",
              "    <tr>\n",
              "      <th>7</th>\n",
              "      <td>paul</td>\n",
              "      <td>marty</td>\n",
              "      <td>जब तन्हा रातो में मोगैम्बो चिलाता है की मोगैम्...</td>\n",
              "      <td>-1</td>\n",
              "      <td>negative</td>\n",
              "    </tr>\n",
              "    <tr>\n",
              "      <th>8</th>\n",
              "      <td>sam</td>\n",
              "      <td>rick</td>\n",
              "      <td>शाम 4:30 बजे और रात 8:30 बजे aajtak पर @yadava...</td>\n",
              "      <td>0</td>\n",
              "      <td>neutral</td>\n",
              "    </tr>\n",
              "    <tr>\n",
              "      <th>9</th>\n",
              "      <td>marty</td>\n",
              "      <td>paul</td>\n",
              "      <td>कुछ ऐसे भी हादसे होते है जिंदगी मेंइंसान बच तो...</td>\n",
              "      <td>-1</td>\n",
              "      <td>negative</td>\n",
              "    </tr>\n",
              "  </tbody>\n",
              "</table>\n",
              "</div>\n",
              "      <button class=\"colab-df-convert\" onclick=\"convertToInteractive('df-23e51b25-6615-42d8-8168-2f305e815de0')\"\n",
              "              title=\"Convert this dataframe to an interactive table.\"\n",
              "              style=\"display:none;\">\n",
              "        \n",
              "  <svg xmlns=\"http://www.w3.org/2000/svg\" height=\"24px\"viewBox=\"0 0 24 24\"\n",
              "       width=\"24px\">\n",
              "    <path d=\"M0 0h24v24H0V0z\" fill=\"none\"/>\n",
              "    <path d=\"M18.56 5.44l.94 2.06.94-2.06 2.06-.94-2.06-.94-.94-2.06-.94 2.06-2.06.94zm-11 1L8.5 8.5l.94-2.06 2.06-.94-2.06-.94L8.5 2.5l-.94 2.06-2.06.94zm10 10l.94 2.06.94-2.06 2.06-.94-2.06-.94-.94-2.06-.94 2.06-2.06.94z\"/><path d=\"M17.41 7.96l-1.37-1.37c-.4-.4-.92-.59-1.43-.59-.52 0-1.04.2-1.43.59L10.3 9.45l-7.72 7.72c-.78.78-.78 2.05 0 2.83L4 21.41c.39.39.9.59 1.41.59.51 0 1.02-.2 1.41-.59l7.78-7.78 2.81-2.81c.8-.78.8-2.07 0-2.86zM5.41 20L4 18.59l7.72-7.72 1.47 1.35L5.41 20z\"/>\n",
              "  </svg>\n",
              "      </button>\n",
              "      \n",
              "  <style>\n",
              "    .colab-df-container {\n",
              "      display:flex;\n",
              "      flex-wrap:wrap;\n",
              "      gap: 12px;\n",
              "    }\n",
              "\n",
              "    .colab-df-convert {\n",
              "      background-color: #E8F0FE;\n",
              "      border: none;\n",
              "      border-radius: 50%;\n",
              "      cursor: pointer;\n",
              "      display: none;\n",
              "      fill: #1967D2;\n",
              "      height: 32px;\n",
              "      padding: 0 0 0 0;\n",
              "      width: 32px;\n",
              "    }\n",
              "\n",
              "    .colab-df-convert:hover {\n",
              "      background-color: #E2EBFA;\n",
              "      box-shadow: 0px 1px 2px rgba(60, 64, 67, 0.3), 0px 1px 3px 1px rgba(60, 64, 67, 0.15);\n",
              "      fill: #174EA6;\n",
              "    }\n",
              "\n",
              "    [theme=dark] .colab-df-convert {\n",
              "      background-color: #3B4455;\n",
              "      fill: #D2E3FC;\n",
              "    }\n",
              "\n",
              "    [theme=dark] .colab-df-convert:hover {\n",
              "      background-color: #434B5C;\n",
              "      box-shadow: 0px 1px 3px 1px rgba(0, 0, 0, 0.15);\n",
              "      filter: drop-shadow(0px 1px 2px rgba(0, 0, 0, 0.3));\n",
              "      fill: #FFFFFF;\n",
              "    }\n",
              "  </style>\n",
              "\n",
              "      <script>\n",
              "        const buttonEl =\n",
              "          document.querySelector('#df-23e51b25-6615-42d8-8168-2f305e815de0 button.colab-df-convert');\n",
              "        buttonEl.style.display =\n",
              "          google.colab.kernel.accessAllowed ? 'block' : 'none';\n",
              "\n",
              "        async function convertToInteractive(key) {\n",
              "          const element = document.querySelector('#df-23e51b25-6615-42d8-8168-2f305e815de0');\n",
              "          const dataTable =\n",
              "            await google.colab.kernel.invokeFunction('convertToInteractive',\n",
              "                                                     [key], {});\n",
              "          if (!dataTable) return;\n",
              "\n",
              "          const docLinkHtml = 'Like what you see? Visit the ' +\n",
              "            '<a target=\"_blank\" href=https://colab.research.google.com/notebooks/data_table.ipynb>data table notebook</a>'\n",
              "            + ' to learn more about interactive tables.';\n",
              "          element.innerHTML = '';\n",
              "          dataTable['output_type'] = 'display_data';\n",
              "          await google.colab.output.renderOutput(dataTable, element);\n",
              "          const docLink = document.createElement('div');\n",
              "          docLink.innerHTML = docLinkHtml;\n",
              "          element.appendChild(docLink);\n",
              "        }\n",
              "      </script>\n",
              "    </div>\n",
              "  </div>\n",
              "  "
            ]
          },
          "metadata": {},
          "execution_count": 24
        }
      ],
      "source": [
        "df"
      ]
    },
    {
      "cell_type": "code",
      "execution_count": null,
      "metadata": {
        "colab": {
          "base_uri": "https://localhost:8080/",
          "height": 522
        },
        "id": "vVA9gfkHjcXW",
        "outputId": "4456394e-5afb-4e82-e0bc-cfa5d8a03f47"
      },
      "outputs": [
        {
          "output_type": "stream",
          "name": "stdout",
          "text": [
            "\n",
            "\n"
          ]
        },
        {
          "output_type": "display_data",
          "data": {
            "text/plain": [
              "<Figure size 640x480 with 1 Axes>"
            ],
            "image/png": "[encoded data removed]"
          },
          "metadata": {}
        }
      ],
      "source": [
        "import networkx as nx\n",
        "G = nx.Graph()\n",
        "for index, row in df.iterrows():\n",
        "    a=row[0]\n",
        "    b=row['target']\n",
        "    c=row['weight']\n",
        "    if ((a,b) in G.edges()):\n",
        "            data = G.get_edge_data(a,b)\n",
        "            G.add_edge(a,b, key='edge', weight=data['weight']+c)\n",
        "            print()\n",
        "    elif((b,a) in G.edges()):\n",
        "            data = G.get_edge_data(b,a)\n",
        "            G.add_edge(a,b, key='edge', weight=data['weight']+c)\n",
        "    else:\n",
        "            G.add_edge(a,b, weight=c)\n",
        "pos = nx.spring_layout(G,seed=7,k=15)\n",
        "nx.draw_networkx_nodes(G, pos, node_size=5000)\n",
        "nx.draw_networkx_edges(G, pos)\n",
        "nx.draw_networkx_labels(G, pos, font_size=20, font_family=\"sans-serif\",font_color=\"white\")\n",
        "edge_labels = nx.get_edge_attributes(G, \"weight\")\n",
        "nx.draw_networkx_edge_labels(G, pos, edge_labels)\n",
        "ax = plt.gca()\n",
        "ax.margins(0.08)\n",
        "plt.axis(\"off\")\n",
        "plt.tight_layout()\n",
        "plt.show()"
      ]
    },
    {
      "cell_type": "code",
      "source": [
        "import numpy as np\n",
        "a=np.array([1,2,3])\n",
        "print(a.dtype)"
      ],
      "metadata": {
        "colab": {
          "base_uri": "https://localhost:8080/"
        },
        "id": "wcYOAoOmXfVA",
        "outputId": "d2ce38b9-7c38-4f9e-f840-2b366744f953"
      },
      "execution_count": null,
      "outputs": [
        {
          "output_type": "stream",
          "name": "stdout",
          "text": [
            "int64\n"
          ]
        }
      ]
    }
  ],
  "metadata": {
    "accelerator": "GPU",
    "colab": {
      "provenance": []
    },
    "kernelspec": {
      "display_name": "Python 3",
      "name": "python3"
    }
  },
  "nbformat": 4,
  "nbformat_minor": 0
}